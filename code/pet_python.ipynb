{
 "cells": [
  {
   "cell_type": "code",
   "execution_count": 14,
   "metadata": {},
   "outputs": [],
   "source": [
    "# Import Necessary Modules\n",
    "import glob\n",
    "import matplotlib.pyplot as plt\n",
    "import math\n",
    "from skimage import io\n",
    "import numpy as np\n",
    "%matplotlib inline "
   ]
  },
  {
   "cell_type": "code",
   "execution_count": 86,
   "metadata": {},
   "outputs": [],
   "source": [
    "#This function reads in all images in catsfolder/ and dogsfolder/. \n",
    "#Each 64 x 64 image is reshaped into a length-4096 row vector. \n",
    "#These row vectors are stacked on top of one another to get two data\n",
    "#matrices, each with 4096 columns, with cats first, then dogs.  The\n",
    "#function outputs this data matrix, along with a vector containing a\n",
    "#label for each data point, with 0 for cats and 1 for dogs. \n",
    "\n",
    "def read_cats_dogs():\n",
    "    \n",
    "    # get image filenames\n",
    "    cat_locs = glob.glob('petdataset/catsfolder/*.jpg')\n",
    "    dog_locs = glob.glob('petdataset/dogsfolder/*.jpg')\n",
    "\n",
    "    cat_locs.sort()\n",
    "    dog_locs.sort()\n",
    "\n",
    "    num_cats = len(cat_locs)\n",
    "    num_dogs = len(dog_locs)\n",
    "    \n",
    "    # initialize empty arrays\n",
    "    cats = np.zeros((num_cats,64*64))\n",
    "    dogs = np.zeros((num_dogs,64*64))\n",
    "    im1 = np.zeros(64*64,)\n",
    "              \n",
    "    #reshape images into row vectors and stack into a matrix \n",
    "    for i in range(num_cats):\n",
    "        img = cat_locs[i]\n",
    "        im = io.imread(img)\n",
    "        im = im.reshape(64*64)\n",
    "        cats[i,:] = im\n",
    "\n",
    "    for i in range(num_dogs):\n",
    "        img = dog_locs[i]\n",
    "        im = io.imread(img)\n",
    "        im = im.reshape(64*64)\n",
    "        dogs[i,:] = im\n",
    "    n0,d0 = cats.shape\n",
    "    n1,d1 = dogs.shape\n",
    "\n",
    "    if (n0 == 0) or (n1 == 0):\n",
    "        raise Exception(\"you did not read in any data. The catsfolder and/or dogsfolder are not in this folder\")\n",
    "\n",
    "    if (d0 != d1):\n",
    "        raise Exception(\"dataset0 and dataset1 do not have the same number of columns.\")\n",
    "    \n",
    "    datamatrix = np.vstack((cats,dogs))\n",
    "    labelvector = np.concatenate((np.zeros(n0),np.ones(n1)))\n",
    "    \n",
    "\n",
    "    return datamatrix, labelvector"
   ]
  },
  {
   "cell_type": "code",
   "execution_count": 87,
   "metadata": {},
   "outputs": [],
   "source": [
    "#This function takes in an n x 4096 data matrix X and an index i. It extracts\n",
    "#the ith row of X and displays it as a grayscale 64 x 64 image.\n",
    "\n",
    "# def show_image(X, i):\n",
    "#     #select image\n",
    "#     image = X[i,:]\n",
    "#     #reshape make into a square\n",
    "#     image = image.reshape((64,64))\n",
    "#     #display the image\n",
    "#     plt.imshow(image,'gray')\n",
    "#     plt.axis('off')  # Hide axis labels\n",
    "#     plt.show()\n",
    "def show_image(image_data):\n",
    "    # Check if image_data is a 1D array (vector), then reshape it into a 64x64 image\n",
    "    if image_data.ndim == 1:\n",
    "        image = image_data.reshape((64, 64))\n",
    "    else:\n",
    "        # If image_data is already a 2D array, no need to reshape\n",
    "        image = image_data\n",
    "\n",
    "    # Display the image\n",
    "    plt.imshow(image, cmap='gray')\n",
    "    plt.axis('off')  # Hide axis labels\n",
    "    plt.show()\n"
   ]
  },
  {
   "cell_type": "code",
   "execution_count": 88,
   "metadata": {},
   "outputs": [],
   "source": [
    "#Read in pet classificaton data \n",
    "X,Y = read_cats_dogs()\n",
    "n,d = X.shape\n",
    "n1= Y.size\n",
    "\n",
    "if (n != n1):\n",
    "    raise Exception(\"Don't have same number of labels and data vectors\")\n",
    "\n",
    "#To speed up the script, load the cats and dogs dataset once.  Don't execute this cell every time. "
   ]
  },
  {
   "cell_type": "code",
   "execution_count": 89,
   "metadata": {},
   "outputs": [],
   "source": [
    "# 10.4(a)  Fill in this function\n",
    "\n",
    "#This function takes in a data matrix X, corresponding vector \n",
    "#of labels Y, and a desired label. It outputs the the number \n",
    "#of samples with desiredlabel as n_label as well as the sample\n",
    "#mean vector mu_label and sample covariance matrix sigma_label\n",
    "#for the data in X whose labels in Y are equal to desired label.\n",
    "\n",
    "# def labeled_mean_cov(X,Y,desiredlabel):\n",
    "#     n,d = X.shape\n",
    "#     n_label = n\n",
    "#     mu_label = np.zeros(d)\n",
    "#     sigma_label = np.zeros((d,d))\n",
    "    \n",
    "#     ## Your code here \n",
    "    \n",
    "#     return n_label, mu_label, sigma_label\n",
    "\n",
    "def labeled_mean_cov(X, Y, desired_label):\n",
    "    # Select rows where the label matches desired_label\n",
    "    labeled_rows = X[Y == desired_label]\n",
    "    # Compute the number of samples with the desired label\n",
    "    n_label = labeled_rows.shape[0]\n",
    "    # Calculate the mean vector for the selected rows\n",
    "    mu_label = np.mean(labeled_rows, axis=0)\n",
    "    # Calculate the covariance matrix for the selected rows\n",
    "    sigma_label = np.cov(labeled_rows.T)\n",
    "\n",
    "    return n_label, mu_label, sigma_label\n",
    "\n"
   ]
  },
  {
   "cell_type": "code",
   "execution_count": 91,
   "metadata": {},
   "outputs": [
    {
     "data": {
      "image/png": "[encoded data removed]",
      "text/plain": [
       "<Figure size 640x480 with 1 Axes>"
      ]
     },
     "metadata": {},
     "output_type": "display_data"
    },
    {
     "data": {
      "image/png": "[encoded data removed]",
      "text/plain": [
       "<Figure size 640x480 with 1 Axes>"
      ]
     },
     "metadata": {},
     "output_type": "display_data"
    }
   ],
   "source": [
    "#10.4 (a)  Compute the average cat and get a picture, then compute the average and get a picture\n",
    "# using the labeled_mean_cov function above.\n",
    "# Compute the average cat image\n",
    "n0, mu0, Sigma0 = labeled_mean_cov(X, Y, 0)\n",
    "show_image(mu0)  # Display the average cat image\n",
    "\n",
    "# Compute the average dog image\n",
    "n1, mu1, Sigma1 = labeled_mean_cov(X, Y, 1)\n",
    "show_image(mu1)  # Display the average dog image\n",
    "\n",
    "\n",
    "\n",
    "\n"
   ]
  },
  {
   "cell_type": "code",
   "execution_count": 92,
   "metadata": {},
   "outputs": [
    {
     "data": {
      "image/png": "[encoded data removed]",
      "text/plain": [
       "<Figure size 640x480 with 1 Axes>"
      ]
     },
     "metadata": {},
     "output_type": "display_data"
    }
   ],
   "source": [
    "#10.4 (a)  Compute the average cat and get a picture, then compute the average dog and get a picture\n",
    "# using the labeled_mean_cov function above.\n",
    "# Compute the average dog image\n",
    "n1, mu1, Sigma1 = labeled_mean_cov(X, Y, 1)\n",
    "\n",
    "# Reshape the mu1 array into a row vector for printing\n",
    "average_dog = np.reshape(mu1, (1, -1))\n",
    "\n",
    "# Display the average dog image\n",
    "show_image(mu1)\n"
   ]
  },
  {
   "cell_type": "code",
   "execution_count": 39,
   "metadata": {},
   "outputs": [],
   "source": [
    "def error_rate(yguess,ytrue):\n",
    "    if (yguess.shape == ytrue.shape):\n",
    "        numguesses = yguess.size\n",
    "    else:\n",
    "        raise Exception(\"yguess and ytrue are not the same shape.  One may be a 1-D array, the other a 2-D array.\")\n",
    "    error_rate_value = 1/numguesses*np.sum(yguess != ytrue)\n",
    "    return error_rate_value"
   ]
  },
  {
   "cell_type": "code",
   "execution_count": 45,
   "metadata": {
    "tags": []
   },
   "outputs": [],
   "source": [
    "# 10.4(b)  Extend the closest average function of HW 8 to take in a full data matrix X,\n",
    "# with two averages, and classify each of the rows in this data matrix as 0 if mu0 is closer, \n",
    "# as 1 if mu1 is closer.  It outputs a vector guess contains the decision for each row of the data matrix.\n",
    "# In the case of a tie, it outputs 1.\n",
    "def closest_average(X, mu0, mu1):\n",
    "    # Calculate distances.\n",
    "    n, d = X.shape\n",
    "    guess = np.zeros(n)\n",
    "    \n",
    "    for i in range(n):\n",
    "        # Compute the distance from the i-th sample to each mean\n",
    "        distance_to_mu0 = np.linalg.norm(X[i] - mu0)\n",
    "        distance_to_mu1 = np.linalg.norm(X[i] - mu1)\n",
    "\n",
    "        # Classify the sample based on the closest mean\n",
    "        # If there's a tie, classify as 1 (dog)\n",
    "        guess[i] = 0 if distance_to_mu0 < distance_to_mu1 else 1\n",
    "    \n",
    "    return guess\n"
   ]
  },
  {
   "cell_type": "code",
   "execution_count": 46,
   "metadata": {},
   "outputs": [
    {
     "name": "stdout",
     "output_type": "stream",
     "text": [
      "Error rate for closest average classifier is 0.197\n"
     ]
    }
   ],
   "source": [
    "# 10.4(b) Compute the performance of the closest average classifier on the full data set\n",
    "\n",
    "yguess = closest_average(X,mu0, mu1)\n",
    "CAerrors = error_rate(yguess, Y)\n",
    "\n",
    "print(f'Error rate for closest average classifier is {CAerrors}')\n"
   ]
  },
  {
   "cell_type": "code",
   "execution_count": 93,
   "metadata": {},
   "outputs": [],
   "source": [
    "#10.4 (c) Complete the dimensionality_reduction function to take in a data matrix\n",
    "# DataMatrix, and a number k of desired reduced dimensions.  It outputs a reduced dimension\n",
    "# data matrix, with features corresponding to the features along the k largest principal \n",
    "# components of the covariance of the original data matrix. It first computes the eigenvectors\n",
    "# and eigenvalues of the covariance of the data matrix. It selects the k eigenvectors corresponding to \n",
    "# the k largest eigenvalues (the principal components), centers the data by subtracting mu, and projects\n",
    "# the centered data to k dimensions by multiplying by the matrix\n",
    "# of k eigenvectors.\n",
    "\n",
    "# def dimensionality_reduction(Xrun,mu,V,D,k):\n",
    "#     n,d = Xrun.shape\n",
    "#     Xrun_reduced = np.zeros((n,k))\n",
    "\n",
    "#     ## Your code here \n",
    "\n",
    "#     return Xrun_reduced\n",
    "\n",
    "def dimensionality_reduction(Xrun, mu, V, D, k):\n",
    "    # n is the number of samples, d is the number of dimensions\n",
    "    n, d = Xrun.shape\n",
    "    \n",
    "    # Sort the eigenvectors by the eigenvalues in descending order\n",
    "    sorted_indices = np.argsort(D)[::-1]\n",
    "    V = V[:, sorted_indices]\n",
    "    \n",
    "    # Select the top k eigenvectors (principal components)\n",
    "    V_k = V[:, :k]\n",
    "    \n",
    "    # Center the data by subtracting the mean\n",
    "    X_centered = Xrun - mu\n",
    "    \n",
    "    # Project the centered data onto the k principal components\n",
    "    Xrun_reduced = np.dot(X_centered, V_k)\n",
    "    \n",
    "    return Xrun_reduced\n"
   ]
  },
  {
   "cell_type": "code",
   "execution_count": 50,
   "metadata": {},
   "outputs": [],
   "source": [
    "mu = np.mean(X,axis=0)\n",
    "sigma = np.cov(X, rowvar=False)\n",
    "#Determine eigenvalues and eigenvectors.\n",
    "D, V = np.linalg.eigh(sigma) \n",
    "Xreduced = dimensionality_reduction(X,mu,V,D, 30)"
   ]
  },
  {
   "cell_type": "code",
   "execution_count": 95,
   "metadata": {},
   "outputs": [],
   "source": [
    "#10.4 (d) This function takes in a data matrix Xrun as well the mean vectors mu0, mu1 \n",
    "#and the covariance matrices sigma0, sigma1 estimated from the training data\n",
    "#and produces a vector guesses, corresponding to the ML rule for Gaussian vectors\n",
    "#with different means and the same covariance matrix, which is referred to as \n",
    "#Linear Discriminant Analysis (LDA) in machine learning.\n",
    "def LDA(Xrun, mu0, mu1, sigmapooled):\n",
    "    n, d = Xrun.shape\n",
    "    guesses = np.zeros(n)\n",
    "    \n",
    "    # Compute the inverse of the pooled covariance matrix\n",
    "    sigma_inv = np.linalg.inv(sigmapooled)\n",
    "    \n",
    "    # Compute the linear coefficients for the LDA decision boundary\n",
    "    coefficients = np.dot(sigma_inv, mu1 - mu0)\n",
    "    \n",
    "    # Compute the constant term for the LDA decision boundary\n",
    "    constant_term = -0.5 * np.dot(mu1.T, np.dot(sigma_inv, mu1)) + 0.5 * np.dot(mu0.T, np.dot(sigma_inv, mu0))\n",
    "    \n",
    "    # Compute the discriminant scores for each sample\n",
    "    scores = np.dot(Xrun, coefficients) + constant_term\n",
    "    \n",
    "    # Classify samples\n",
    "    guesses[scores >= 0] = 1\n",
    "    \n",
    "    return guesses\n"
   ]
  },
  {
   "cell_type": "code",
   "execution_count": 96,
   "metadata": {},
   "outputs": [
    {
     "name": "stdout",
     "output_type": "stream",
     "text": [
      "Error rate for LDA classifier with 30 features is 0.10400000000000001\n"
     ]
    }
   ],
   "source": [
    "n0,mu0,sigma0 = labeled_mean_cov(Xreduced,Y,0)\n",
    "n1,mu1,sigma1 = labeled_mean_cov(Xreduced,Y,1)\n",
    "sigmapooled = (1/(n0+n1-2))*((n0-1)*sigma0 + (n1-1)*sigma1)\n",
    "yguess = LDA(Xreduced,mu0,mu1,sigmapooled)\n",
    "\n",
    "LDAerrors = error_rate(yguess, Y)\n",
    "\n",
    "print(f'Error rate for LDA classifier with 30 features is {LDAerrors}')\n",
    "\n",
    "\n",
    "\n"
   ]
  },
  {
   "cell_type": "code",
   "execution_count": 97,
   "metadata": {},
   "outputs": [],
   "source": [
    "#10.4 (e) This function takes in a data matrix Xrun as well the mean vectors mu0, mu1 \n",
    "#and the covariance matrices sigma0, sigma1 estimated from the training data\n",
    "#and produces a vector guesses, corresponding to the ML rule for Gaussian vectors\n",
    "#with different means and different covariance matrices, which is referred to as \n",
    "#Quadratic Discriminant Analysis (QDA) in machine learning.\n",
    "def QDA(Xrun, mu0, mu1, sigma0, sigma1):\n",
    "    n, d = Xrun.shape\n",
    "    guesses = np.zeros(n)\n",
    "\n",
    "    # Compute the inverse and log determinant for sigma0\n",
    "    inv_sigma0 = np.linalg.inv(sigma0)\n",
    "    sign0, logdet_sigma0 = np.linalg.slogdet(sigma0)\n",
    "    \n",
    "    # Compute the inverse and log determinant for sigma1\n",
    "    inv_sigma1 = np.linalg.inv(sigma1)\n",
    "    sign1, logdet_sigma1 = np.linalg.slogdet(sigma1)\n",
    "    \n",
    "    # Check for non-positive definite matrices\n",
    "    if sign0 <= 0 or sign1 <= 0:\n",
    "        raise ValueError(\"Non-positive definite covariance matrix.\")\n",
    "\n",
    "    for i in range(n):\n",
    "    # Compute the quadratic terms for the discriminant functions\n",
    "        diff0 = Xrun[i] - mu0\n",
    "        diff1 = Xrun[i] - mu1\n",
    "        term0 = np.dot(diff0.T, np.dot(inv_sigma0, diff0)) + logdet_sigma0\n",
    "        term1 = np.dot(diff1.T, np.dot(inv_sigma1, diff1)) + logdet_sigma1\n",
    "\n",
    "    # Assign class based on which term is smaller\n",
    "        guesses[i] = 1 if term1 < term0 else 0\n",
    "    \n",
    "    return guesses"
   ]
  },
  {
   "cell_type": "code",
   "execution_count": 98,
   "metadata": {},
   "outputs": [
    {
     "name": "stdout",
     "output_type": "stream",
     "text": [
      "Error rate for QDA classifier with 30 features is 0.043000000000000003\n"
     ]
    }
   ],
   "source": [
    "yguess = QDA(Xreduced,mu0,mu1,sigma0,sigma1)\n",
    "\n",
    "QDAerrors = error_rate(yguess, Y)\n",
    "\n",
    "print(f'Error rate for QDA classifier with 30 features is {QDAerrors}')\n",
    "# Code to split and prepare the data, compute mu0, mu1, sigma0, sigma1, as per the given setup\n"
   ]
  },
  {
   "cell_type": "code",
   "execution_count": 99,
   "metadata": {},
   "outputs": [],
   "source": [
    "# 10.4(f)  This function takes in a data matrix Xrun as well a training data matrix Xtrain and\n",
    "# the labels for the training data ytrain.  For each row of Xrun, it finds the closest row in Xtrain\n",
    "# and assigns the label of that closest row as the guessed label for the row of Xtrain. \n",
    "def nearest_neighbor(Xrun, Xtrain, ytrain):\n",
    "    n, d = Xrun.shape\n",
    "    guesses = np.zeros(n)\n",
    "\n",
    "    for i in range(n):\n",
    "        # Calculate the distance from the i-th test sample to all training samples\n",
    "        distances = np.linalg.norm(Xtrain - Xrun[i], axis=1)\n",
    "        # Find the index of the closest training sample\n",
    "        closest_index = np.argmin(distances)\n",
    "        # Assign the label of the closest training sample to the guess\n",
    "        guesses[i] = ytrain[closest_index]\n",
    "\n",
    "    return guesses\n",
    " "
   ]
  },
  {
   "cell_type": "code",
   "execution_count": 100,
   "metadata": {},
   "outputs": [
    {
     "name": "stdout",
     "output_type": "stream",
     "text": [
      "Error rate for NN classifier with 30 features is 0.043000000000000003\n"
     ]
    }
   ],
   "source": [
    "n = Xreduced.shape[0]\n",
    "permutation = np.random.permutation(n) # generates a permutation\n",
    "Xshifted = Xreduced[permutation,:]\n",
    "Yshifted = Y[permutation]\n",
    "\n",
    "n1 = math.floor(0.8*n)\n",
    "\n",
    "Xtrain = Xshifted[:n1,:]\n",
    "Ytrain = Yshifted[:n1]\n",
    "Xrun = Xshifted[n1:,:]\n",
    "Yrun = Yshifted[n1:]\n",
    "yguess = nearest_neighbor(Xrun,Xtrain,Ytrain)\n",
    "\n",
    "NNerrors = error_rate(yguess, Yrun)\n",
    "\n",
    "print(f'Error rate for NN classifier with 30 features is {QDAerrors}')"
   ]
  },
  {
   "cell_type": "code",
   "execution_count": 68,
   "metadata": {
    "tags": []
   },
   "outputs": [],
   "source": [
    "# 10.4 (g) -- Script for evaluationg overfitting\n",
    "#Split the data into numfolds equal-sized segments\n",
    "numfolds = 5 \n",
    "#All but one fold used for training\n",
    "trainfraction = (numfolds-1)/numfolds \n",
    "\n",
    "#Dimensions to try for PCA dimensionality reduction\n",
    "kvalues = np.array([10, 25, 50, 100, 250, 500])\n",
    "numkvalues = kvalues.size\n",
    "\n",
    "#Initialize arrays to store error rate estimates.\n",
    "train_error_NN = np.zeros((numfolds,numkvalues))\n",
    "test_error_NN = np.zeros((numfolds,numkvalues))\n",
    "train_error_LDA = np.zeros((numfolds,numkvalues))\n",
    "test_error_LDA = np.zeros((numfolds,numkvalues))\n",
    "train_error_QDA = np.zeros((numfolds,numkvalues))\n",
    "test_error_QDA = np.zeros((numfolds,numkvalues))\n",
    "\n",
    "train_error_CA = np.zeros((numfolds,numkvalues))\n",
    "test_error_CA = np.zeros((numfolds,numkvalues))\n",
    "\n",
    "# randomly permutation of the full data set: ge the indices \n",
    "\n",
    "n = X.shape[0]\n",
    "np.random.seed(42)\n",
    "permutation = np.random.permutation(n) "
   ]
  },
  {
   "cell_type": "code",
   "execution_count": 69,
   "metadata": {},
   "outputs": [
    {
     "name": "stdout",
     "output_type": "stream",
     "text": [
      "Fold 1 out of 5.\n",
      "Trying dimension 10.\n",
      "Trying dimension 25.\n",
      "Trying dimension 50.\n",
      "Trying dimension 100.\n",
      "Trying dimension 250.\n",
      "Trying dimension 500.\n",
      "Fold 2 out of 5.\n",
      "Trying dimension 10.\n",
      "Trying dimension 25.\n",
      "Trying dimension 50.\n",
      "Trying dimension 100.\n",
      "Trying dimension 250.\n",
      "Trying dimension 500.\n",
      "Fold 3 out of 5.\n",
      "Trying dimension 10.\n",
      "Trying dimension 25.\n",
      "Trying dimension 50.\n",
      "Trying dimension 100.\n",
      "Trying dimension 250.\n",
      "Trying dimension 500.\n",
      "Fold 4 out of 5.\n",
      "Trying dimension 10.\n",
      "Trying dimension 25.\n",
      "Trying dimension 50.\n",
      "Trying dimension 100.\n",
      "Trying dimension 250.\n",
      "Trying dimension 500.\n",
      "Fold 5 out of 5.\n",
      "Trying dimension 10.\n",
      "Trying dimension 25.\n",
      "Trying dimension 50.\n",
      "Trying dimension 100.\n",
      "Trying dimension 250.\n",
      "Trying dimension 500.\n"
     ]
    }
   ],
   "source": [
    "#Loop over folds, using the mth fold for testing, remainder for training.\n",
    "for m in range(numfolds):\n",
    "    print(\"Fold \" + str(m+1) + \" out of \" + str(numfolds) + \".\")\n",
    "\n",
    "   \n",
    "    permshift = np.roll(permutation,math.floor(n*m/numfolds))\n",
    "    dataperm = X[permshift,:]\n",
    "    labelperm = Y[permshift]\n",
    "    #Split dataset into training and test data.\n",
    "    n1 = math.floor(n*trainfraction)\n",
    "    Xtrain = dataperm[0:n1,:]\n",
    "    Xtest = dataperm[n1:,:]\n",
    "    Ytrain = labelperm[0:n1]\n",
    "    Ytest = labelperm[n1:]\n",
    "\n",
    "    ntrain = Xtrain.shape[0]\n",
    "    ntest = Xtest.shape[0]\n",
    "\n",
    "    #Compute covariance and PCA only once \n",
    "    mu = np.mean(X,axis=0)\n",
    "    sigma = np.cov(Xtrain, rowvar=False)\n",
    "    #Determine eigenvalues and eigenvectors.\n",
    "    D, V = np.linalg.eigh(sigma) \n",
    "    \n",
    "    #Loop over different sizes of dimension k for dimensionality reduction\n",
    "    for j in range(numkvalues):\n",
    "        k = kvalues[j] #Dimensionality reduction parameter.\n",
    "        print(f\"Trying dimension {k}.\")\n",
    "        #Reduce training and testing data to k dimensions.\n",
    "        Xtrain_reduced = dimensionality_reduction(Xtrain,mu,V,D,k)\n",
    "        Xtest_reduced = dimensionality_reduction(Xtest,mu,V,D,k)\n",
    "\n",
    "        #Determine number of samples, mean vector, \n",
    "        #and covariance matrix for each label.\n",
    "        n0train,mu0,sigma0 = labeled_mean_cov(Xtrain_reduced,Ytrain,0)\n",
    "        n1train,mu1,sigma1 = labeled_mean_cov(Xtrain_reduced,Ytrain,1) \n",
    "\n",
    "        # Using the closest average classifier, produce guesses for the training and testing data.\n",
    "\n",
    "        trainguesses_CA = closest_average(Xtrain_reduced,mu0,mu1)\n",
    "        testguesses_CA = closest_average(Xtest_reduced,mu0,mu1)\n",
    "\n",
    "        train_error_CA[m,j] = error_rate(trainguesses_CA,Ytrain)\n",
    "        test_error_CA[m,j] = error_rate(testguesses_CA,Ytest)\n",
    "\n",
    "\n",
    "\n",
    "        # #Using the NearestNeighbor classifier, produce guesses for the training and testing data.\n",
    "\n",
    "        trainguesses_NN  = nearest_neighbor(Xtrain_reduced,Xtrain_reduced,Ytrain)\n",
    "        testguesses_NN  = nearest_neighbor(Xtest_reduced,Xtrain_reduced,Ytrain)\n",
    "\n",
    "        #  #Store resulting NN error rates.\n",
    "        train_error_NN[m,j] = error_rate(trainguesses_NN,Ytrain)\n",
    "        test_error_NN[m,j] = error_rate(testguesses_NN,Ytest)\n",
    "\n",
    "        \n",
    "        #Using the LDA algorithm, produce guesses for the training and testing data\n",
    "        sigmapooled = 1/(n0train+n1train-2)*((n0train-1)*sigma0+(n1train-1)*sigma1)\n",
    "        trainguesses_LDA = LDA(Xtrain_reduced,mu0,mu1,sigmapooled)\n",
    "        testguesses_LDA = LDA(Xtest_reduced,mu0,mu1,sigmapooled)\n",
    "        \n",
    "        #Store resulting LDA error rates.\n",
    "        train_error_LDA[m,j] = error_rate(trainguesses_LDA,Ytrain)\n",
    "        test_error_LDA[m,j] = error_rate(testguesses_LDA,Ytest)\n",
    "        \n",
    "        # #Using the QDA algorithm, produce guesses for the training and testing data.\n",
    "        trainguesses_QDA = QDA(Xtrain_reduced,mu0,mu1,sigma0,sigma1)\n",
    "        testguesses_QDA = QDA(Xtest_reduced,mu0,mu1,sigma0,sigma1)\n",
    "        \n",
    "        # #Store resulting QDA error rates.\n",
    "        train_error_QDA[m,j] = error_rate(trainguesses_QDA,Ytrain)\n",
    "        test_error_QDA[m,j] = error_rate(testguesses_QDA,Ytest)"
   ]
  },
  {
   "cell_type": "code",
   "execution_count": 101,
   "metadata": {},
   "outputs": [
    {
     "name": "stdout",
     "output_type": "stream",
     "text": [
      "Average training error for NN: [0. 0. 0. 0. 0. 0.]\n",
      "Average testing error for NN: [0.144  0.129  0.1395 0.1525 0.165  0.1735]\n",
      "Average training error for LDA: [0.142125 0.109375 0.076625 0.059375 0.04525  0.026875]\n",
      "Average testing error for LDA: [0.143  0.1135 0.086  0.08   0.0825 0.101 ]\n",
      "Average training error for QDA: [0.097    0.051625 0.034375 0.01775  0.004625 0.00075 ]\n",
      "Average testing error for QDA: [0.106  0.063  0.0555 0.051  0.05   0.1   ]\n",
      "Average training error for CA: [0.202125 0.195875 0.195125 0.195125 0.194875 0.194875]\n",
      "Average testing error for CA: [0.205  0.199  0.1985 0.199  0.199  0.199 ]\n"
     ]
    }
   ],
   "source": [
    "#Determine average error rates over folds.\n",
    "\n",
    "\n",
    "\n",
    "avg_train_error_NN = np.mean(train_error_NN,axis=0)\n",
    "avg_test_error_NN = np.mean(test_error_NN,axis=0)\n",
    "avg_train_error_LDA = np.mean(train_error_LDA,axis=0)\n",
    "avg_test_error_LDA = np.mean(test_error_LDA,axis=0)\n",
    "avg_train_error_QDA = np.mean(train_error_QDA,axis=0)\n",
    "avg_test_error_QDA = np.mean(test_error_QDA,axis=0)\n",
    "avg_train_error_CA = np.mean(train_error_CA,axis=0)\n",
    "avg_test_error_CA = np.mean(test_error_CA,axis=0)\n",
    "\n",
    "print(\"Average training error for NN:\", np.mean(train_error_NN, axis=0))\n",
    "print(\"Average testing error for NN:\", np.mean(test_error_NN, axis=0))\n",
    "print(\"Average training error for LDA:\", np.mean(train_error_LDA, axis=0))\n",
    "print(\"Average testing error for LDA:\", np.mean(test_error_LDA, axis=0))\n",
    "print(\"Average training error for QDA:\", np.mean(train_error_QDA, axis=0))\n",
    "print(\"Average testing error for QDA:\", np.mean(test_error_QDA, axis=0))\n",
    "print(\"Average training error for CA:\", np.mean(train_error_CA, axis=0))\n",
    "print(\"Average testing error for CA:\", np.mean(test_error_CA, axis=0))"
   ]
  },
  {
   "cell_type": "code",
   "execution_count": 73,
   "metadata": {},
   "outputs": [
    {
     "data": {
      "image/png": "[encoded data removed]",
      "text/plain": [
       "<Figure size 640x480 with 1 Axes>"
      ]
     },
     "metadata": {},
     "output_type": "display_data"
    }
   ],
   "source": [
    "#Plot average error rates. \n",
    "fig = plt.figure()\n",
    "plt.plot(kvalues,avg_train_error_NN,marker=\"o\",color=\"magenta\", label = 'NN Training Error')\n",
    "plt.plot(kvalues,avg_test_error_NN,marker=\"x\",color=\"magenta\", label = 'NN Testing Error')\n",
    "plt.plot(kvalues,avg_train_error_LDA,marker=\"o\",color=\"red\",label = 'LDA Training Error')\n",
    "plt.plot(kvalues,avg_test_error_LDA,marker=\"x\",color=\"red\", label = 'LDA Testing Error')\n",
    "plt.plot(kvalues,avg_train_error_QDA,marker=\"o\",color=\"blue\", label = 'QDA Training Error')\n",
    "plt.plot(kvalues,avg_test_error_QDA,marker=\"x\",color=\"blue\", label = 'QDA Testing Error')\n",
    "plt.plot(kvalues,avg_train_error_CA,marker=\"o\",color=\"green\", label = 'CA Training Error')\n",
    "plt.plot(kvalues,avg_test_error_CA,marker=\"x\",color=\"green\", label = 'CA Testing Error')\n",
    "\n",
    "plt.xlabel('Dimension k')\n",
    "plt.ylabel('Average Error Rate')\n",
    "plt.legend(loc='upper right', bbox_to_anchor=(1.4, 1))\n",
    "\n",
    "# plt.legend(['NN Training Error', 'NN Testing Error', 'LDA Training Error','LDA Testing Error','QDA Training Error','QDA Testing Error'])\n",
    "\n",
    "plt.savefig(\"HW10plot.png\")\n",
    "plt.show()"
   ]
  },
  {
   "cell_type": "code",
   "execution_count": 103,
   "metadata": {},
   "outputs": [
    {
     "name": "stdout",
     "output_type": "stream",
     "text": [
      "Optimal k values and parameters for each classifier:\n",
      "NN: k = 25, parameters = 25\n",
      "LDA: k = 100, parameters = 5250.0\n",
      "QDA: k = 250, parameters = 63250.0\n",
      "CA: k = 50, parameters = 100\n"
     ]
    }
   ],
   "source": [
    "# Errors from each classifier\n",
    "nn_training_errors = np.array([0., 0., 0., 0., 0., 0.])\n",
    "nn_test_errors = np.array([0.144,  0.129,  0.1395, 0.1525, 0.165,  0.1735])\n",
    "lda_training_errors = np.array([0.142125, 0.109375, 0.076625, 0.059375, 0.04525,  0.026875])\n",
    "lda_test_errors = np.array([0.143,  0.1135, 0.086,  0.08,   0.0825, 0.101 ])\n",
    "\n",
    "qda_training_errors = np.array([0.097,    0.051625, 0.034375, 0.01775,  0.004625, 0.00075 ])\n",
    "qda_test_errors = np.array([0.106,  0.063,  0.0555, 0.051,  0.05,   0.1   ])\n",
    "ca_training_errors = np.array([0.202125, 0.195875, 0.195125, 0.195125, 0.194875, 0.194875])\n",
    "ca_test_errors = np.array ([0.205,  0.199,  0.1985, 0.199,  0.199,  0.199 ])\n",
    "\n",
    "k_values = np.array([10, 25, 50, 100, 250, 500])\n",
    "\n",
    "# Calculating the number of parameters for LDA and QDA\n",
    "# LDA: 2k + k(k+1)/2, QDA: 2k + 2 * k(k+1)/2, CA: 2k, NN: k (not traditional parameters)\n",
    "lda_params = 2 * k_values + (k_values * (k_values + 1)) / 2\n",
    "qda_params = 2 * k_values + 2 * (k_values * (k_values + 1)) / 2\n",
    "ca_params = 2 * k_values\n",
    "\n",
    "# The optimal k for each classifier based on the test error\n",
    "optimal_k_nn = k_values[np.argmin(nn_test_errors)]\n",
    "optimal_k_lda = k_values[np.argmin(lda_test_errors)]\n",
    "optimal_k_qda = k_values[np.argmin(qda_test_errors)]\n",
    "optimal_k_ca = k_values[np.argmin(ca_test_errors)]\n",
    "\n",
    "# The number of parameters for the optimal k\n",
    "optimal_params_nn = nn_params[np.argmin(nn_test_errors)]\n",
    "optimal_params_lda = lda_params[np.argmin(lda_test_errors)]\n",
    "optimal_params_qda = qda_params[np.argmin(qda_test_errors)]\n",
    "optimal_params_ca = ca_params[np.argmin(ca_test_errors)]\n",
    "\n",
    "print(f\"Optimal k values and parameters for each classifier:\")\n",
    "print(f\"NN: k = {optimal_k_nn}, parameters = {optimal_params_nn}\")\n",
    "print(f\"LDA: k = {optimal_k_lda}, parameters = {optimal_params_lda}\")\n",
    "print(f\"QDA: k = {optimal_k_qda}, parameters = {optimal_params_qda}\")\n",
    "print(f\"CA: k = {optimal_k_ca}, parameters = {optimal_params_ca}\")"
   ]
  },
  {
   "cell_type": "code",
   "execution_count": null,
   "metadata": {},
   "outputs": [],
   "source": [
    "What happens to training error rate for the different algorithms as the dimension increases?\n",
    "It decreases with an increase in dimensionality for all algorithms.\n",
    "\n",
    "What happens to the test error rate as the dimension increases?\n",
    "The test error rate decreases initially as k increases, reflecting improved model performance on\n",
    "unseen data due to the capture of more relevant features in the dataset.\n",
    "\n",
    "For each algorithm, estimate the number of parameters used as a function of k, and \n",
    "determine the value of k that yields the lowest test error. For instance,\n",
    "the closest average classifier with k = 30 features has 60 parameters, corresponding to the specification of the two centers µ0, µ1.\n",
    "Record the best values of k and the estimates of the parameters needed as a function of k for each of the algorithms.\n",
    "\n",
    "Optimal k values and parameters for each classifier:\n",
    "NN: k = 25, parameters = 25\n",
    "LDA: k = 100, parameters = 5250.0\n",
    "QDA: k = 250, parameters = 63250.0\n",
    "CA: k = 50, parameters = 100"
   ]
  }
 ],
 "metadata": {
  "kernelspec": {
   "display_name": "Python 3 (ipykernel)",
   "language": "python",
   "name": "python3"
  },
  "language_info": {
   "codemirror_mode": {
    "name": "ipython",
    "version": 3
   },
   "file_extension": ".py",
   "mimetype": "text/x-python",
   "name": "python",
   "nbconvert_exporter": "python",
   "pygments_lexer": "ipython3",
   "version": "3.10.9"
  },
  "vscode": {
   "interpreter": {
    "hash": "40d3a090f54c6569ab1632332b64b2c03c39dcf918b08424e98f38b5ae0af88f"
   }
  }
 },
 "nbformat": 4,
 "nbformat_minor": 4
}
